{
  "nbformat": 4,
  "nbformat_minor": 0,
  "metadata": {
    "colab": {
      "provenance": [],
      "authorship_tag": "ABX9TyPy8ahNpqrkD9kDaVfStZzN",
      "include_colab_link": true
    },
    "kernelspec": {
      "name": "python3",
      "display_name": "Python 3"
    },
    "language_info": {
      "name": "python"
    }
  },
  "cells": [
    {
      "cell_type": "markdown",
      "metadata": {
        "id": "view-in-github",
        "colab_type": "text"
      },
      "source": [
        "<a href=\"https://colab.research.google.com/github/spoon-while-spoon/bike-traffic-mlpred/blob/main/ml_car_v2.ipynb\" target=\"_parent\"><img src=\"https://colab.research.google.com/assets/colab-badge.svg\" alt=\"Open In Colab\"/></a>"
      ]
    },
    {
      "cell_type": "code",
      "execution_count": 35,
      "metadata": {
        "id": "1RbQOiCZphEB"
      },
      "outputs": [],
      "source": [
        "# Importieren der benötigten Bibliotheken\n",
        "import pandas as pd\n",
        "import numpy as np\n",
        "import seaborn as sns\n",
        "import matplotlib.pyplot as plt\n",
        "%matplotlib inline\n",
        "sns.set(color_codes=True) # Setzt Standardfarbcodes für Seaborn-Plots\n",
        "\n",
        "# Konvertiert einen Integer-Zeitstempel in ein Datums-/Zeitformat\n",
        "def parse_date(date_int):\n",
        "    date_str = str(date_int) # Konvertiert den Integer in einen String\n",
        "    return pd.to_datetime(date_str, format='%Y%m%d%H')\n",
        "\n",
        "# Einlesen der CSV-Dateien\n",
        "wind_df = pd.read_csv(\"wind.csv\", sep=\";\", index_col=1, parse_dates=True, date_parser=parse_date).drop(['eor', 'STATIONS_ID', 'QUALITAETS_NIVEAU', 'STRUKTUR_VERSION', 'WINDRICHTUNG'], axis=1)\n",
        "sun_df = pd.read_csv(\"sun.csv\", sep=\";\", index_col=1, parse_dates=True, date_parser=parse_date).drop(['STATIONS_ID', 'QUALITAETS_NIVEAU', 'STRUKTUR_VERSION', 'eor'], axis=1)\n",
        "precipation_df = pd.read_csv(\"precipation.csv\", sep=\";\", index_col=1, parse_dates=True, date_parser=parse_date).drop(['STATIONS_ID', 'QUALITAETS_NIVEAU', 'STRUKTUR_VERSION', 'eor'], axis=1)\n",
        "airpressure_df = pd.read_csv(\"airpressure.csv\", sep=\";\", index_col=1, parse_dates=True, date_parser=parse_date).drop(['STATIONS_ID', 'QUALITAETS_NIVEAU', 'STRUKTUR_VERSION', 'LUFTDRUCK_STATIONSHOEHE', 'eor'], axis=1)\n",
        "air_temp_df = pd.read_csv(\"air_temp.csv\", sep=\";\", index_col=1, parse_dates=True, date_parser=parse_date).drop(['STATIONS_ID', 'QUALITAETS_NIVEAU', 'STRUKTUR_VERSION', 'LUFTTEMPERATUR_FALSCH', 'STRAHLUNGSTEMPERATUR', 'eor'], axis=1)\n",
        "radverkehr_df = pd.read_csv(\"radverkehr_final.csv\", sep=\";\", index_col=1, parse_dates=True, date_parser=parse_date).drop(['datum_rad'], axis=1)\n"
      ]
    },
    {
      "cell_type": "markdown",
      "source": [
        "### Kombinieren\n",
        "Hier werden unsere erstellten Dataframes zu einem kombiniert `(df_combined)` und anschließend das Ergebnis ausgegeben mit\n",
        "`print(df_combined.head())`\n"
      ],
      "metadata": {
        "id": "z4nyF3GOk-ND"
      }
    },
    {
      "cell_type": "code",
      "source": [
        "df_combined = pd.concat([wind_df, sun_df, precipation_df, airpressure_df, air_temp_df, radverkehr_df], axis=1)\n",
        "print(df_combined.head())"
      ],
      "metadata": {
        "colab": {
          "base_uri": "https://localhost:8080/"
        },
        "id": "axSt1aWSiwhX",
        "outputId": "f5af1cb4-a587-4d57-8b95-e30422143ff0"
      },
      "execution_count": 36,
      "outputs": [
        {
          "output_type": "stream",
          "name": "stdout",
          "text": [
            "                     WINDGESCHWINDIGKEIT  SONNENSCHEINDAUER  \\\n",
            "MESS_DATUM                                                    \n",
            "2015-01-01 01:00:00                  NaN                NaN   \n",
            "2015-01-01 02:00:00                  NaN                NaN   \n",
            "2015-01-01 03:00:00                  NaN                NaN   \n",
            "2015-01-01 04:00:00                  NaN                NaN   \n",
            "2015-01-01 05:00:00                  NaN                NaN   \n",
            "\n",
            "                    NIEDERSCHLAGSHOEHE  LUFTDRUCK_NN LUFTTEMPERATUR_RICHTIG  \\\n",
            "MESS_DATUM                                                                    \n",
            "2015-01-01 01:00:00                NaN           NaN                    NaN   \n",
            "2015-01-01 02:00:00                NaN           NaN                    NaN   \n",
            "2015-01-01 03:00:00                NaN           NaN                    NaN   \n",
            "2015-01-01 04:00:00                NaN           NaN                    NaN   \n",
            "2015-01-01 05:00:00                NaN           NaN                    NaN   \n",
            "\n",
            "                     REL_FEUCHTE  NORD  SUED  \n",
            "MESS_DATUM                                    \n",
            "2015-01-01 01:00:00          NaN   NaN   NaN  \n",
            "2015-01-01 02:00:00          NaN   NaN   NaN  \n",
            "2015-01-01 03:00:00          NaN   NaN   NaN  \n",
            "2015-01-01 04:00:00          NaN   NaN   NaN  \n",
            "2015-01-01 05:00:00          NaN   NaN   NaN  \n"
          ]
        }
      ]
    },
    {
      "cell_type": "markdown",
      "source": [
        "### Bereinigen\n",
        "Anschließend bereinigen wir auf Grundlage fehlender Daten. Übrig bleiben um Endergebnis nur Datenreihen in den zu allen Zeitstempeln die vollstängen Daten vorliegen."
      ],
      "metadata": {
        "id": "m7SE1mIXlNxx"
      }
    },
    {
      "cell_type": "code",
      "source": [
        "df_cleaned = df_combined.dropna()\n",
        "print(df_cleaned.head())"
      ],
      "metadata": {
        "colab": {
          "base_uri": "https://localhost:8080/"
        },
        "id": "Phr3AWenkd5i",
        "outputId": "f18e09bb-d02d-4ea4-dd2f-0c8d7f7af81d"
      },
      "execution_count": 37,
      "outputs": [
        {
          "output_type": "stream",
          "name": "stdout",
          "text": [
            "                     WINDGESCHWINDIGKEIT  SONNENSCHEINDAUER  \\\n",
            "MESS_DATUM                                                    \n",
            "2015-08-20 01:00:00                750.0                0.0   \n",
            "2015-08-20 02:00:00                810.0                0.0   \n",
            "2015-08-20 03:00:00                730.0                0.0   \n",
            "2015-08-20 04:00:00                740.0                0.0   \n",
            "2015-08-20 05:00:00                860.0                0.0   \n",
            "\n",
            "                    NIEDERSCHLAGSHOEHE  LUFTDRUCK_NN LUFTTEMPERATUR_RICHTIG  \\\n",
            "MESS_DATUM                                                                    \n",
            "2015-08-20 01:00:00                  0       10224.0                   15,9   \n",
            "2015-08-20 02:00:00                  0       10226.0                   15,2   \n",
            "2015-08-20 03:00:00                  0       10229.0                   14,8   \n",
            "2015-08-20 04:00:00                  0       10232.0                   14,6   \n",
            "2015-08-20 05:00:00                  0       10237.0                     15   \n",
            "\n",
            "                     REL_FEUCHTE   NORD   SUED  \n",
            "MESS_DATUM                                      \n",
            "2015-08-20 01:00:00         92.0  142.0  107.0  \n",
            "2015-08-20 02:00:00         93.0   56.0   44.0  \n",
            "2015-08-20 03:00:00         87.0   41.0   36.0  \n",
            "2015-08-20 04:00:00         70.0   28.0   17.0  \n",
            "2015-08-20 05:00:00         63.0    9.0   17.0  \n"
          ]
        }
      ]
    },
    {
      "cell_type": "code",
      "source": [
        "num_rows = len(df_cleaned)\n",
        "print(\"Anzahl der Zeilen:\", num_rows)"
      ],
      "metadata": {
        "colab": {
          "base_uri": "https://localhost:8080/"
        },
        "id": "FSgDkSSll1Ov",
        "outputId": "0ee6d204-2978-4735-f1a3-1a21c77b56da"
      },
      "execution_count": 38,
      "outputs": [
        {
          "output_type": "stream",
          "name": "stdout",
          "text": [
            "Anzahl der Zeilen: 47742\n"
          ]
        }
      ]
    },
    {
      "cell_type": "markdown",
      "source": [
        "### Ergebnis\n",
        "Um zu überprüfen wieviele Datensätze den Anforderungen entprechen und im fertigen Datensatz übrig bleiben nutzen wir `num_rows`"
      ],
      "metadata": {
        "id": "urH_dm2bmNgH"
      }
    }
  ]
}