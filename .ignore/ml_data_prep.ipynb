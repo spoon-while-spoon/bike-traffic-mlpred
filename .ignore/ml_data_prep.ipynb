{
  "nbformat": 4,
  "nbformat_minor": 0,
  "metadata": {
    "colab": {
      "provenance": [],
      "history_visible": true,
      "gpuType": "T4",
      "toc_visible": true,
      "authorship_tag": "ABX9TyME0BdIjYOydzor9SBi3z7E",
      "include_colab_link": true
    },
    "kernelspec": {
      "name": "python3",
      "display_name": "Python 3"
    },
    "language_info": {
      "name": "python"
    },
    "accelerator": "GPU"
  },
  "cells": [
    {
      "cell_type": "markdown",
      "metadata": {
        "id": "view-in-github",
        "colab_type": "text"
      },
      "source": [
        "<a href=\"https://colab.research.google.com/github/spoon-while-spoon/bike-traffic-mlpred/blob/main/data_preperation.ipynb\" target=\"_parent\"><img src=\"https://colab.research.google.com/assets/colab-badge.svg\" alt=\"Open In Colab\"/></a>"
      ]
    },
    {
      "cell_type": "markdown",
      "source": [
        "# Machine Learning anhand von Radverkehrsdaten"
      ],
      "metadata": {
        "id": "p0Mlxy79kpgZ"
      }
    },
    {
      "cell_type": "code",
      "execution_count": null,
      "metadata": {
        "id": "1RbQOiCZphEB"
      },
      "outputs": [],
      "source": [
        "# Importieren der benötigten Bibliotheken\n",
        "import pandas as pd\n",
        "import numpy as np\n",
        "import seaborn as sns\n",
        "import matplotlib.pyplot as plt\n",
        "from sklearn.model_selection import train_test_split\n",
        "from sklearn.preprocessing import OneHotEncoder\n",
        "from sklearn.ensemble import RandomForestRegressor\n",
        "from sklearn.metrics import mean_squared_error, r2_score\n",
        "%matplotlib inline\n",
        "sns.set(color_codes=True) # Setzt Standardfarbcodes für Seaborn-Plots\n",
        "\n",
        "# Konvertiert einen Integer-Zeitstempel in ein Datums-/Zeitformat\n",
        "def parse_date(date_int):\n",
        "    date_str = str(date_int) # Konvertiert den Integer in einen String\n",
        "    return pd.to_datetime(date_str, format='%Y%m%d%H')\n",
        "\n",
        "# Einlesen der CSV-Dateien sowie erste Anpassungen\n",
        "wind_df = pd.read_csv(\"wind.csv\", sep=\";\", index_col=1, parse_dates=True, date_parser=parse_date).drop(['eor', 'STATIONS_ID', 'QUALITAETS_NIVEAU', 'STRUKTUR_VERSION', 'WINDRICHTUNG'], axis=1)\n",
        "sun_df = pd.read_csv(\"sun.csv\", sep=\";\", index_col=1, parse_dates=True, date_parser=parse_date).drop(['STATIONS_ID', 'QUALITAETS_NIVEAU', 'STRUKTUR_VERSION', 'eor'], axis=1)\n",
        "precipation_df = pd.read_csv(\"precipation.csv\", sep=\";\", index_col=1, parse_dates=True, date_parser=parse_date).drop(['STATIONS_ID', 'QUALITAETS_NIVEAU', 'STRUKTUR_VERSION', 'eor'], axis=1)\n",
        "airpressure_df = pd.read_csv(\"airpressure.csv\", sep=\";\", index_col=1, parse_dates=True, date_parser=parse_date).drop(['STATIONS_ID', 'QUALITAETS_NIVEAU', 'STRUKTUR_VERSION', 'LUFTDRUCK_STATIONSHOEHE', 'eor'], axis=1)\n",
        "\n",
        "air_temp_df = pd.read_csv(\"air_temp.csv\", sep=\";\", index_col=1, parse_dates=True, date_parser=parse_date).drop(['STATIONS_ID', 'QUALITAETS_NIVEAU', 'STRUKTUR_VERSION', 'LUFTTEMPERATUR_FALSCH', 'STRAHLUNGSTEMPERATUR', 'eor'], axis=1)\n",
        "air_temp_df['LUFTTEMPERATUR_RICHTIG'] = pd.to_numeric(air_temp_df['LUFTTEMPERATUR_RICHTIG'], errors='coerce')\n",
        "air_temp_df['REL_FEUCHTE'] = pd.to_numeric(air_temp_df['REL_FEUCHTE'], errors='coerce')\n",
        "air_temp_df = air_temp_df[(air_temp_df['LUFTTEMPERATUR_RICHTIG'] >= -25) & (air_temp_df['LUFTTEMPERATUR_RICHTIG'] <= 45) & (air_temp_df['REL_FEUCHTE'] >= 0) & (air_temp_df['REL_FEUCHTE'] <= 99)]\n",
        "\n",
        "radverkehr_df = pd.read_csv(\"radverkehr_final.csv\", sep=\";\", index_col=1, parse_dates=True, date_parser=parse_date).drop(['datum_rad'], axis=1).assign(RAD_gesamt=lambda df: df['NORD'] + df['SUED'])\n",
        "\n"
      ]
    },
    {
      "cell_type": "markdown",
      "source": [
        "### Kombinieren & Bereinigen\n",
        "\n",
        "Hier werden unsere erstellten Dataframes zu einem **kombiniert** `(pd.concat)` und anschließend  **bereinigt** von unvollständigen Datensätzen.\n",
        "\n",
        "Datenreihen zu denen nicht alle Daten vorliegen werden komplett entfernt durch `dropna()`.\n",
        "\n"
      ],
      "metadata": {
        "id": "z4nyF3GOk-ND"
      }
    },
    {
      "cell_type": "code",
      "source": [
        "df_cleaned = pd.concat([wind_df, sun_df, precipation_df, airpressure_df, air_temp_df, radverkehr_df], axis=1).dropna()"
      ],
      "metadata": {
        "id": "GJaCQ58BnAuq"
      },
      "execution_count": null,
      "outputs": []
    },
    {
      "cell_type": "markdown",
      "source": [
        "### Ergebnis\n",
        "Mit `print(df_cleaned.head())` lassen sich die ersten Datenreihen überprüfgen.\n",
        "Die Anzahl der Übrig gebliebenen Datensätze kann mit `num_rows = len(df_cleaned)` gezählt und dann ausgeben werden.  "
      ],
      "metadata": {
        "id": "urH_dm2bmNgH"
      }
    },
    {
      "cell_type": "code",
      "source": [
        "print(df_cleaned.head())\n",
        "print(\"\\n--------------------------------------------------\")\n",
        "print(\"Gesamtzahl der bereinigten Datensätze:\", num_rows)\n",
        "print(\"--------------------------------------------------\\n\")"
      ],
      "metadata": {
        "colab": {
          "base_uri": "https://localhost:8080/"
        },
        "id": "ARsdIF3bkd7G",
        "outputId": "4038e137-dc5c-42f6-82aa-a11762edf9d5"
      },
      "execution_count": null,
      "outputs": [
        {
          "output_type": "stream",
          "name": "stdout",
          "text": [
            "                     WINDGESCHWINDIGKEIT  SONNENSCHEINDAUER  \\\n",
            "MESS_DATUM                                                    \n",
            "2015-08-20 05:00:00                860.0                0.0   \n",
            "2015-08-20 10:00:00                480.0               45.0   \n",
            "2015-08-20 19:00:00                420.0                0.0   \n",
            "2015-08-21 00:00:00                920.0                0.0   \n",
            "2015-08-21 03:00:00                800.0                0.0   \n",
            "\n",
            "                    NIEDERSCHLAGSHOEHE  LUFTDRUCK_NN  LUFTTEMPERATUR_RICHTIG  \\\n",
            "MESS_DATUM                                                                     \n",
            "2015-08-20 05:00:00                  0       10237.0                    15.0   \n",
            "2015-08-20 10:00:00                  0       10244.0                    24.0   \n",
            "2015-08-20 19:00:00                  0       10246.0                    23.0   \n",
            "2015-08-21 00:00:00                  0       10255.0                    19.0   \n",
            "2015-08-21 03:00:00                  0       10255.0                    17.0   \n",
            "\n",
            "                     REL_FEUCHTE   NORD   SUED  RAD_gesamt  \n",
            "MESS_DATUM                                                  \n",
            "2015-08-20 05:00:00         63.0    9.0   17.0        26.0  \n",
            "2015-08-20 10:00:00         30.0  506.0  607.0      1113.0  \n",
            "2015-08-20 19:00:00         28.0  656.0  662.0      1318.0  \n",
            "2015-08-21 00:00:00         41.0  176.0  168.0       344.0  \n",
            "2015-08-21 03:00:00         49.0   54.0   28.0        82.0  \n",
            "\n",
            "--------------------------------------------------\n",
            "Gesamtzahl der bereinigten Datensätze: 47742\n",
            "--------------------------------------------------\n",
            "\n"
          ]
        }
      ]
    },
    {
      "cell_type": "code",
      "source": [
        "df_cleaned.to_csv('/content/drive/My Drive/df_cleaned.csv', index=True, sep=';')"
      ],
      "metadata": {
        "id": "sE8gJlwIqn9e"
      },
      "execution_count": null,
      "outputs": []
    }
  ]
}
